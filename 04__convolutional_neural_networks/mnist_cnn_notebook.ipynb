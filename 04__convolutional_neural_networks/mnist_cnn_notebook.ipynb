{
 "cells": [
  {
   "cell_type": "code",
   "execution_count": 2,
   "metadata": {},
   "outputs": [],
   "source": [
    "# --- IMPORT ---\n",
    "\n",
    "from tensorflow.examples.tutorials.mnist import input_data\n",
    "import tensorflow as tf\n",
    "import numpy as np\n",
    "\n",
    "from layers import *  # From layers.py in same folder"
   ]
  },
  {
   "cell_type": "code",
   "execution_count": 3,
   "metadata": {},
   "outputs": [],
   "source": [
    "# --- GLOBAL VAR ---\n",
    "\n",
    "DATA_DIR = '/tmp/data'\n",
    "MINIBATCH_SIZE = 50\n",
    "STEPS = 5000"
   ]
  },
  {
   "cell_type": "code",
   "execution_count": 4,
   "metadata": {},
   "outputs": [
    {
     "name": "stdout",
     "output_type": "stream",
     "text": [
      "Extracting /tmp/data/train-images-idx3-ubyte.gz\n",
      "Extracting /tmp/data/train-labels-idx1-ubyte.gz\n",
      "Extracting /tmp/data/t10k-images-idx3-ubyte.gz\n",
      "Extracting /tmp/data/t10k-labels-idx1-ubyte.gz\n"
     ]
    }
   ],
   "source": [
    "# --- DEFINE CNN ---\n",
    "\n",
    "mnist = input_data.read_data_sets(DATA_DIR, one_hot=True)\n",
    "\n",
    "x = tf.placeholder(tf.float32, shape=[None, 784])\n",
    "y_ = tf.placeholder(tf.float32, shape=[None, 10])\n",
    "\n",
    "x_image = tf.reshape(x, [-1, 28, 28, 1])\n",
    "conv1 = conv_layer(x_image, shape=[5, 5, 1, 32])\n",
    "conv1_pool = max_pool_2x2(conv1)\n",
    "\n",
    "conv2 = conv_layer(conv1_pool, shape=[5, 5, 32, 64])\n",
    "conv2_pool = max_pool_2x2(conv2)\n",
    "\n",
    "conv2_flat = tf.reshape(conv2_pool, [-1, 7*7*64])\n",
    "full_1 = tf.nn.relu(full_layer(conv2_flat, 1024))\n",
    "\n",
    "keep_prob = tf.placeholder(tf.float32)\n",
    "full1_drop = tf.nn.dropout(full_1, keep_prob=keep_prob)\n",
    "\n",
    "y_conv = full_layer(full1_drop, 10)\n",
    "\n",
    "cross_entropy = tf.reduce_mean(tf.nn.softmax_cross_entropy_with_logits(logits=y_conv, labels=y_))\n",
    "train_step = tf.train.AdamOptimizer(1e-4).minimize(cross_entropy)\n",
    "correct_prediction = tf.equal(tf.argmax(y_conv, 1), tf.argmax(y_, 1))\n",
    "accuracy = tf.reduce_mean(tf.cast(correct_prediction, tf.float32))"
   ]
  },
  {
   "cell_type": "code",
   "execution_count": 5,
   "metadata": {},
   "outputs": [
    {
     "name": "stdout",
     "output_type": "stream",
     "text": [
      "step 0, training accuracy 0.18000000715255737\n",
      "step 100, training accuracy 0.8399999737739563\n",
      "step 200, training accuracy 0.9200000166893005\n",
      "step 300, training accuracy 0.9200000166893005\n",
      "step 400, training accuracy 0.8600000143051147\n",
      "step 500, training accuracy 0.8199999928474426\n",
      "step 600, training accuracy 0.8600000143051147\n",
      "step 700, training accuracy 0.8999999761581421\n",
      "step 800, training accuracy 0.9599999785423279\n",
      "step 900, training accuracy 0.9599999785423279\n",
      "step 1000, training accuracy 0.8600000143051147\n",
      "step 1100, training accuracy 0.9599999785423279\n",
      "step 1200, training accuracy 0.9800000190734863\n",
      "step 1300, training accuracy 0.9800000190734863\n",
      "step 1400, training accuracy 0.9800000190734863\n",
      "step 1500, training accuracy 0.9599999785423279\n",
      "step 1600, training accuracy 0.9599999785423279\n",
      "step 1700, training accuracy 0.9599999785423279\n",
      "step 1800, training accuracy 1.0\n",
      "step 1900, training accuracy 0.9800000190734863\n",
      "step 2000, training accuracy 1.0\n",
      "step 2100, training accuracy 1.0\n",
      "step 2200, training accuracy 1.0\n",
      "step 2300, training accuracy 1.0\n",
      "step 2400, training accuracy 0.9800000190734863\n",
      "step 2500, training accuracy 1.0\n",
      "step 2600, training accuracy 0.9800000190734863\n",
      "step 2700, training accuracy 0.9599999785423279\n",
      "step 2800, training accuracy 0.9599999785423279\n",
      "step 2900, training accuracy 1.0\n",
      "step 3000, training accuracy 1.0\n",
      "step 3100, training accuracy 1.0\n",
      "step 3200, training accuracy 1.0\n",
      "step 3300, training accuracy 1.0\n",
      "step 3400, training accuracy 0.9800000190734863\n",
      "step 3500, training accuracy 0.9399999976158142\n",
      "step 3600, training accuracy 0.9800000190734863\n",
      "step 3700, training accuracy 0.9599999785423279\n",
      "step 3800, training accuracy 1.0\n",
      "step 3900, training accuracy 0.9800000190734863\n",
      "step 4000, training accuracy 0.9800000190734863\n",
      "step 4100, training accuracy 1.0\n",
      "step 4200, training accuracy 1.0\n",
      "step 4300, training accuracy 0.9800000190734863\n",
      "step 4400, training accuracy 0.9800000190734863\n",
      "step 4500, training accuracy 1.0\n",
      "step 4600, training accuracy 1.0\n",
      "step 4700, training accuracy 1.0\n",
      "step 4800, training accuracy 0.9800000190734863\n",
      "step 4900, training accuracy 1.0\n",
      "test accuracy: 0.9860000610351562\n"
     ]
    }
   ],
   "source": [
    "# --- RUN CNN ---\n",
    "\n",
    "with tf.Session() as sess:\n",
    "    sess.run(tf.global_variables_initializer())\n",
    "\n",
    "    for i in range(STEPS):\n",
    "        batch = mnist.train.next_batch(MINIBATCH_SIZE)\n",
    "\n",
    "        if i % 100 == 0:\n",
    "            train_accuracy = sess.run(accuracy, feed_dict={x: batch[0], y_: batch[1],\n",
    "                                                           keep_prob: 1.0})\n",
    "            print(\"step {}, training accuracy {}\".format(i, train_accuracy))\n",
    "\n",
    "        sess.run(train_step, feed_dict={x: batch[0], y_: batch[1], keep_prob: 0.5})\n",
    "\n",
    "    X = mnist.test.images.reshape(10, 1000, 784)\n",
    "    Y = mnist.test.labels.reshape(10, 1000, 10)\n",
    "    test_accuracy = np.mean([sess.run(accuracy, feed_dict={x:X[i], y_:Y[i], keep_prob:1.0}) for i in range(10)])\n",
    "\n",
    "print(\"test accuracy: {}\".format(test_accuracy))"
   ]
  },
  {
   "cell_type": "code",
   "execution_count": null,
   "metadata": {},
   "outputs": [],
   "source": []
  }
 ],
 "metadata": {
  "kernelspec": {
   "display_name": "Python 3",
   "language": "python",
   "name": "python3"
  },
  "language_info": {
   "codemirror_mode": {
    "name": "ipython",
    "version": 3
   },
   "file_extension": ".py",
   "mimetype": "text/x-python",
   "name": "python",
   "nbconvert_exporter": "python",
   "pygments_lexer": "ipython3",
   "version": "3.4.3"
  }
 },
 "nbformat": 4,
 "nbformat_minor": 2
}
